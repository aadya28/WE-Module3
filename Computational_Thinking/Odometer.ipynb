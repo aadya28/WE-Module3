{
 "nbformat": 4,
 "nbformat_minor": 0,
 "metadata": {
  "colab": {
   "provenance": []
  },
  "kernelspec": {
   "name": "python3",
   "display_name": "Python 3"
  },
  "language_info": {
   "name": "python"
  }
 },
 "cells": [
  {
   "cell_type": "markdown",
   "source": [
    "##Odometer Problem\n",
    "\n",
    "###Rules of our Odometer:\n",
    "• The readings of the odometer cannot have the digit 0\n",
    "\n",
    "• The digits of the reading must be in strict ascending order.\n",
    "\n",
    "\n",
    "### Examples\n",
    "- The (numerically) smallest reading for a 3-digit odometer is 123.\n",
    "- The largest reading for a 3-digit odometer is 789.\n",
    "- For 4 and 5-digit odometers these are (1234, 6789) and (12345, 56789) respectively.\n",
    "\n",
    "- For a 4-digit odometer, the six readings after 2467 are: 2468, 2469, 2478,\n",
    "2479, 2489, 2567.\n",
    "- For a 3-digit odometer, the ten readings prior to 347 are: 346, 345, 289, 279,\n",
    "278, 269, 268, 267, 259, 258, 257.\n",
    "- The smallest reading is the next reading of the largest and the largest is the\n",
    "previous of the smallest.\n",
    "\n",
    "### Coding tasks\n",
    "Write a set of functions so that a programmer who needs an odometer, with the above characteristics, can use those functions to implement the same.\n",
    "At the minimum, the following functions need to be written:\n",
    "- next reading(): to find the next reading for a given reading. Should\n",
    "return 2468 for 2467 and 2567 for 2489.\n",
    "- prev reading(): to find the previous reading for a given reading. Should\n",
    "return 378 for 379 and 289 for 345.\n",
    "- nth reading after(r): Instead of the next reading, return the reading\n",
    "that occurs after r rotations. The next reading can be thought of as a\n",
    "special case: r = 1\n",
    "-  nth reading before(r): Similar to above.\n",
    "- distance(): Given two readings find the number of readings between\n",
    "them. Note that just subtracting the readings will be wrong often. You\n",
    "also need to handle the fact that the distance from 789 to 123 is 1, while\n",
    "the distance from 123 to 789 is different. If different sized readings are\n",
    "given return -1."
   ],
   "metadata": {
    "collapsed": false
   }
  },
  {
   "cell_type": "code",
   "source": [
    "class Odometer:\n",
    "    \"\"\"\n",
    "    This class represents an odometer with ascending digits and no digit 0.\n",
    "    \"\"\"\n",
    "\n",
    "    def __init__(self, size):\n",
    "        \"\"\"\n",
    "        Initializes the odometer with the specified size.\n",
    "\n",
    "        Args:\n",
    "            size: The desired length of the odometer reading (int).\n",
    "\n",
    "        Raises:\n",
    "            ValueError: If the size is not a positive integer.\n",
    "        \"\"\"\n",
    "\n",
    "        if size <= 0:\n",
    "            raise ValueError(\"Odometer size must be a positive integer\")\n",
    "\n",
    "        self.size = size\n",
    "        self.digits = \"123456789\"  # Allowed digits for the odometer\n",
    "\n",
    "    def is_valid_reading(self, reading):\n",
    "        \"\"\"\n",
    "        Checks if a given string is a valid odometer reading.\n",
    "\n",
    "        Args:\n",
    "            reading: The string to check (str).\n",
    "\n",
    "        Returns:\n",
    "            True if the string is a valid odometer reading, False otherwise.\n",
    "        \"\"\"\n",
    "\n",
    "        if len(reading) != self.size or \"0\" in reading:\n",
    "            return False\n",
    "        return all(a < b for a, b in zip(reading, reading[1:]))\n",
    "\n",
    "    def next_reading(self, current_reading):\n",
    "        \"\"\"\n",
    "        Finds the next valid reading after the given one.\n",
    "\n",
    "        Args:\n",
    "            current_reading: The current odometer reading (string).\n",
    "\n",
    "        Returns:\n",
    "            The next valid odometer reading (string), or None if overflow occurs.\n",
    "        \"\"\"\n",
    "\n",
    "        if not self.is_valid_reading(current_reading):\n",
    "            return None\n",
    "\n",
    "        next_value = int(current_reading) + 1\n",
    "        while not self.is_valid_reading(str(next_value)):\n",
    "            next_value += 1\n",
    "            if next_value > int(self.digits[-self.size:]):\n",
    "                return None  # Overflow occurred\n",
    "\n",
    "        return str(next_value)\n",
    "\n",
    "    def prev_reading(self, current_reading):\n",
    "        \"\"\"\n",
    "        Finds the previous valid reading before the given one.\n",
    "\n",
    "        Args:\n",
    "            current_reading: The current odometer reading (string).\n",
    "\n",
    "        Returns:\n",
    "            The previous valid odometer reading (string), or None if underflow occurs.\n",
    "        \"\"\"\n",
    "\n",
    "        if not self.is_valid_reading(current_reading):\n",
    "            return None\n",
    "\n",
    "        prev_value = int(current_reading) - 1\n",
    "        while not self.is_valid_reading(str(prev_value)):\n",
    "            prev_value -= 1\n",
    "            if prev_value < int(self.digits[:self.size]):\n",
    "                return None  # Underflow occurred\n",
    "\n",
    "        return str(prev_value)\n",
    "\n",
    "    def nth_reading_after(self, current_reading, n):\n",
    "        \"\"\"\n",
    "        Finds the reading that occurs after n rotations of the odometer.\n",
    "\n",
    "        Args:\n",
    "            current_reading: The current odometer reading (string).\n",
    "            n: The number of rotations (positive integer).\n",
    "\n",
    "        Returns:\n",
    "            The odometer reading after n rotations (string), or None if overflow occurs.\n",
    "        \"\"\"\n",
    "\n",
    "        if n <= 0:\n",
    "            raise ValueError(\"Number of rotations must be a positive integer\")\n",
    "\n",
    "        for _ in range(n):\n",
    "            next_reading = self.next_reading(current_reading)\n",
    "            if next_reading is None:\n",
    "                return None  # Overflow occurred\n",
    "            current_reading = next_reading\n",
    "        return current_reading\n",
    "\n",
    "    def nth_reading_before(self, current_reading, n):\n",
    "        \"\"\"\n",
    "        Finds the reading that occurs n rotations before the current one.\n",
    "\n",
    "        Args:\n",
    "            current_reading: The current odometer reading (string).\n",
    "            n: The number of rotations (positive integer).\n",
    "\n",
    "        Returns:\n",
    "            The odometer reading n rotations before the current one (string), or None if underflow occurs.\n",
    "        \"\"\"\n",
    "\n",
    "        if n <= 0:\n",
    "            raise ValueError(\"Number of rotations must be a positive integer\")\n",
    "\n",
    "        for _ in range(n):\n",
    "            prev_reading = self.prev_reading(current_reading)\n",
    "            if prev_reading is None:\n",
    "                return None  # Underflow occurred\n",
    "            current_reading = prev_reading\n",
    "        return current_reading\n"
   ],
   "metadata": {
    "id": "JA9moYZJxeIG"
   },
   "execution_count": null,
   "outputs": []
  },
  {
   "cell_type": "code",
   "source": [
    "odometer = Odometer(3)\n",
    "odometer1 = Odometer(8)\n",
    "odometer.is_valid_reading(\"123\")\n",
    "#Expected Output: True (Valid 3-digit reading)"
   ],
   "metadata": {
    "colab": {
     "base_uri": "https://localhost:8080/"
    },
    "id": "rZzQllj6zmMh",
    "outputId": "6a0ba647-a6fa-410a-8d7b-39c3eb7a92ec"
   },
   "execution_count": null,
   "outputs": [
    {
     "output_type": "execute_result",
     "data": {
      "text/plain": [
       "True"
      ]
     },
     "metadata": {},
     "execution_count": 34
    }
   ]
  },
  {
   "cell_type": "code",
   "source": [
    "odometer.is_valid_reading(\"045\")\n",
    "#Expected Output: False (Contains digit 0)"
   ],
   "metadata": {
    "colab": {
     "base_uri": "https://localhost:8080/"
    },
    "id": "JWvAnIim0Izj",
    "outputId": "591465f4-ee10-471e-e5a7-901f412cd35a"
   },
   "execution_count": null,
   "outputs": [
    {
     "output_type": "execute_result",
     "data": {
      "text/plain": [
       "False"
      ]
     },
     "metadata": {},
     "execution_count": 9
    }
   ]
  },
  {
   "cell_type": "code",
   "source": [
    "odometer.is_valid_reading(\"211\")\n",
    "# Expected Output: False (Digits not strictly ascending)"
   ],
   "metadata": {
    "colab": {
     "base_uri": "https://localhost:8080/"
    },
    "id": "pl2Fv1Wu0JNF",
    "outputId": "da3ef49d-3112-48dd-df55-09fcf77aa8bd"
   },
   "execution_count": null,
   "outputs": [
    {
     "output_type": "execute_result",
     "data": {
      "text/plain": [
       "False"
      ]
     },
     "metadata": {},
     "execution_count": 10
    }
   ]
  },
  {
   "cell_type": "code",
   "source": [
    "odometer.is_valid_reading(\"7849\")\n",
    "# Expected Output: False (Larger than 3 digits)"
   ],
   "metadata": {
    "colab": {
     "base_uri": "https://localhost:8080/"
    },
    "id": "X87n5zAe0Jjd",
    "outputId": "72c11a7e-b384-4582-9ac8-70531d845bfe"
   },
   "execution_count": null,
   "outputs": [
    {
     "output_type": "execute_result",
     "data": {
      "text/plain": [
       "False"
      ]
     },
     "metadata": {},
     "execution_count": 17
    }
   ]
  },
  {
   "cell_type": "code",
   "source": [
    "odometer1.is_valid_reading(\"12345678\")\n",
    "# Expected Output: True"
   ],
   "metadata": {
    "colab": {
     "base_uri": "https://localhost:8080/"
    },
    "id": "6oGe4Pew2lzZ",
    "outputId": "4fe5dede-0407-4217-8b1d-3ac69418a440"
   },
   "execution_count": null,
   "outputs": [
    {
     "output_type": "execute_result",
     "data": {
      "text/plain": [
       "True"
      ]
     },
     "metadata": {},
     "execution_count": 35
    }
   ]
  },
  {
   "cell_type": "markdown",
   "source": [
    "Next Reading Test"
   ],
   "metadata": {
    "id": "JbNWSmFb1tWI"
   }
  },
  {
   "cell_type": "code",
   "source": [
    "odometer.next_reading(\"2467\")\n",
    "# Expected Output: None (not valid reading for a 3-digit odometer)"
   ],
   "metadata": {
    "id": "Pdo1ivb70n9p"
   },
   "execution_count": null,
   "outputs": []
  },
  {
   "cell_type": "code",
   "source": [
    "odometer.next_reading(\"123\") # Largest 3-digit reading\n",
    "# Expected Output: None (Overflow - wraps around to smallest)"
   ],
   "metadata": {
    "colab": {
     "base_uri": "https://localhost:8080/",
     "height": 36
    },
    "id": "KVWhIN8M0n6u",
    "outputId": "f965fb81-06cb-4d23-b518-9623e81145de"
   },
   "execution_count": null,
   "outputs": [
    {
     "output_type": "execute_result",
     "data": {
      "text/plain": [
       "'124'"
      ],
      "application/vnd.google.colaboratory.intrinsic+json": {
       "type": "string"
      }
     },
     "metadata": {},
     "execution_count": 19
    }
   ]
  },
  {
   "cell_type": "code",
   "source": [
    "odometer.next_reading(\"789\") # Largest 3-digit reading\n",
    "# Expected Output: None"
   ],
   "metadata": {
    "id": "JgPX01Yy0n3q"
   },
   "execution_count": null,
   "outputs": []
  },
  {
   "cell_type": "code",
   "source": [
    "odometer1.next_reading(\"12345678\")\n",
    "# Expected Output: \"12345679\""
   ],
   "metadata": {
    "colab": {
     "base_uri": "https://localhost:8080/",
     "height": 36
    },
    "id": "QtGvq18E3GF1",
    "outputId": "bc1ce76b-f4bd-422a-ac80-ba0aa38d5e24"
   },
   "execution_count": null,
   "outputs": [
    {
     "output_type": "execute_result",
     "data": {
      "text/plain": [
       "'12345679'"
      ],
      "application/vnd.google.colaboratory.intrinsic+json": {
       "type": "string"
      }
     },
     "metadata": {},
     "execution_count": 36
    }
   ]
  },
  {
   "cell_type": "markdown",
   "source": [
    "Previous Reading Test"
   ],
   "metadata": {
    "id": "T6NLeRat1pOb"
   }
  },
  {
   "cell_type": "code",
   "source": [
    "odometer.prev_reading(\"379\")\n",
    "# Expected Output: \"378\" (Previous valid reading)"
   ],
   "metadata": {
    "colab": {
     "base_uri": "https://localhost:8080/",
     "height": 36
    },
    "id": "PYNSOgx21R2_",
    "outputId": "489694b6-185c-4686-d5dc-de0b108c7f51"
   },
   "execution_count": null,
   "outputs": [
    {
     "output_type": "execute_result",
     "data": {
      "text/plain": [
       "'378'"
      ],
      "application/vnd.google.colaboratory.intrinsic+json": {
       "type": "string"
      }
     },
     "metadata": {},
     "execution_count": 20
    }
   ]
  },
  {
   "cell_type": "code",
   "source": [
    "odometer.prev_reading(\"123\")\n",
    "# Expected Output: None"
   ],
   "metadata": {
    "id": "NYgINNEw1Rs0"
   },
   "execution_count": null,
   "outputs": []
  },
  {
   "cell_type": "code",
   "source": [
    "odometer1.prev_reading(\"12345679\")\n",
    "# Expected Output: \"12345678\""
   ],
   "metadata": {
    "colab": {
     "base_uri": "https://localhost:8080/",
     "height": 36
    },
    "id": "bNmKwVps3P2K",
    "outputId": "ed3dfa4b-7b55-4668-fa77-5fe7d9717f54"
   },
   "execution_count": null,
   "outputs": [
    {
     "output_type": "execute_result",
     "data": {
      "text/plain": [
       "'12345678'"
      ],
      "application/vnd.google.colaboratory.intrinsic+json": {
       "type": "string"
      }
     },
     "metadata": {},
     "execution_count": 38
    }
   ]
  },
  {
   "cell_type": "markdown",
   "source": [
    "Nth Reading After test"
   ],
   "metadata": {
    "id": "tYucoP-U1nED"
   }
  },
  {
   "cell_type": "code",
   "source": [
    "odometer.nth_reading_after(\"247\", 6)"
   ],
   "metadata": {
    "colab": {
     "base_uri": "https://localhost:8080/",
     "height": 36
    },
    "id": "qcZFGr8R1g5w",
    "outputId": "ec85b891-b862-42c8-9726-3a33e93464bf"
   },
   "execution_count": null,
   "outputs": [
    {
     "output_type": "execute_result",
     "data": {
      "text/plain": [
       "'259'"
      ],
      "application/vnd.google.colaboratory.intrinsic+json": {
       "type": "string"
      }
     },
     "metadata": {},
     "execution_count": 22
    }
   ]
  },
  {
   "cell_type": "code",
   "source": [
    "odometer.nth_reading_after(\"567\", 6)"
   ],
   "metadata": {
    "colab": {
     "base_uri": "https://localhost:8080/",
     "height": 36
    },
    "id": "qTEhBzLD1-Ck",
    "outputId": "09cc7e69-2f60-43b9-8703-7a5bee1c4425"
   },
   "execution_count": null,
   "outputs": [
    {
     "output_type": "execute_result",
     "data": {
      "text/plain": [
       "'678'"
      ],
      "application/vnd.google.colaboratory.intrinsic+json": {
       "type": "string"
      }
     },
     "metadata": {},
     "execution_count": 27
    }
   ]
  },
  {
   "cell_type": "markdown",
   "source": [
    "Nth Reading Before"
   ],
   "metadata": {
    "id": "0UiCFy-c2W0Z"
   }
  },
  {
   "cell_type": "code",
   "source": [
    "odometer.nth_reading_before(\"379\", 10)\n",
    "# Expected Output: \"279\" (10 rotations before \"379\")"
   ],
   "metadata": {
    "colab": {
     "base_uri": "https://localhost:8080/",
     "height": 36
    },
    "id": "9bHyRiBK2X5R",
    "outputId": "44bf710d-09f4-4e03-db1b-03008bd3e99f"
   },
   "execution_count": null,
   "outputs": [
    {
     "output_type": "execute_result",
     "data": {
      "text/plain": [
       "'348'"
      ],
      "application/vnd.google.colaboratory.intrinsic+json": {
       "type": "string"
      }
     },
     "metadata": {},
     "execution_count": 28
    }
   ]
  },
  {
   "cell_type": "code",
   "source": [
    "odometer1.nth_reading_before(\"12345679\", 1)"
   ],
   "metadata": {
    "colab": {
     "base_uri": "https://localhost:8080/",
     "height": 36
    },
    "id": "EraBOXac3j2A",
    "outputId": "34fdb0f6-15b8-44c8-b4a5-57de902eb8c9"
   },
   "execution_count": null,
   "outputs": [
    {
     "output_type": "execute_result",
     "data": {
      "text/plain": [
       "'12345678'"
      ],
      "application/vnd.google.colaboratory.intrinsic+json": {
       "type": "string"
      }
     },
     "metadata": {},
     "execution_count": 40
    }
   ]
  }
 ]
}
